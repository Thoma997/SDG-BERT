{
 "cells": [
  {
   "cell_type": "code",
   "execution_count": 39,
   "metadata": {},
   "outputs": [],
   "source": [
    "from models import SQLHandler\n",
    "import pandas as pd\n",
    "from nltk.tokenize import sent_tokenize, word_tokenize\n",
    "import time\n",
    "pd.set_option('display.max_rows', 500)\n",
    "pd.options.display.max_colwidth = 100"
   ]
  },
  {
   "cell_type": "code",
   "execution_count": 5,
   "metadata": {},
   "outputs": [
    {
     "name": "stdout",
     "output_type": "stream",
     "text": [
      "Found 11020 jobs in database.\n",
      "Of which 6432 where translated into english.\n"
     ]
    }
   ],
   "source": [
    "# fetch data\n",
    "counter = 0\n",
    "flag = True\n",
    "handler = SQLHandler()\n",
    "handler.connect_table('job_postings')\n",
    "df = pd.DataFrame(columns=['id', 'date', 'company', 'title', 'meta', 'text', 'src_lang', 'text_en', 'test_data'])\n",
    "\n",
    "while flag: \n",
    "    row = handler.return_row()\n",
    "    \n",
    "    if row == None:\n",
    "        flag = False\n",
    "        continue\n",
    "        \n",
    "    if row[7] != None:\n",
    "        df.loc[counter] = list(row)\n",
    "    \n",
    "    counter += 1\n",
    "    \n",
    "\n",
    "print(\"Found {} jobs in database.\".format(counter))\n",
    "print(\"Of which {} where translated into english.\".format(df.shape[0]))\n"
   ]
  },
  {
   "cell_type": "code",
   "execution_count": 6,
   "metadata": {},
   "outputs": [],
   "source": [
    "# map indeed company names to prefedined company names. \n",
    "d_comp = {\n",
    "    'adidas': 'adidas',\n",
    "    'H&M': 'h&m',\n",
    "    'BMW AG': 'bmw',\n",
    "    'ZARA': 'zara',\n",
    "    'EDF': 'edf',\n",
    "    'BMW': 'bmw',\n",
    "    'ENDEL ENGIE': 'engie',\n",
    "    'Engie Ineo': 'engie',\n",
    "    'Volkswagen AG': 'volkswagen',\n",
    "    'AUDI AG': 'audi',\n",
    "    'ENGIE': 'engie',\n",
    "    'Renault': 'renault',\n",
    "    'Peugeot': 'peugeot',\n",
    "    'AUDI BRUSSELS': 'audi',\n",
    "    'E.ON Energidistribution AB': 'e.on',\n",
    "    'E.ON': 'e.on',\n",
    "    'Enel': 'enel',\n",
    "    'BMW Group France': 'bmw',\n",
    "    'Volvo Group': 'volvo',\n",
    "    'RWE Renewables GmbH': 'rwe',\n",
    "    'ENGIE Deutschland GmbH': 'engie',\n",
    "    'BESTSELLER': 'bestseller',\n",
    "    'Daimler TSS GmbH': 'daimler-ag',\n",
    "    'BV Bestseller Verlag GmbH': 'bestseller',\n",
    "    'BMW Group': 'bmw',\n",
    "    'Louis Vuitton': 'louis-vuitton',\n",
    "    'ENGIE Axima': 'engie',\n",
    "    'Porsche Zentrum Kassel': 'porsche-ag',\n",
    "    'Louis Vuitton Malletier': 'louis-vuitton',\n",
    "    'Volkswagen': 'volkswagen',\n",
    "    'ENGIE IT': 'engie',\n",
    "    'Primark': 'primark',\n",
    "    'Daimler AG': 'daimler-ag',\n",
    "    'JD Sports Fashion Germany GmbH': 'jd-sports-fashion-plc',\n",
    "    'Volkswagen Group': 'volkswagen',\n",
    "    'Daimler Brand & IP Management ': 'daimler-ag',\n",
    "    'RWE Power AG': 'rwe',\n",
    "    'SEAT': 'seat',\n",
    "    'Porsche Zentrum Lennetal': 'porsche-ag',\n",
    "    'PUMA': 'puma',\n",
    "    'Porsche AG': 'porsche-ag',\n",
    "    'Ørsted': 'orsted',\n",
    "    'Daimler Group Services Berlin ': 'daimler-ag',\n",
    "    'Renault Retail Group Deutschla': 'renault',\n",
    "    'Endel ENGIE': 'engie',\n",
    "    'JD Sports': 'jd-sports-fashion-plc',\n",
    "    'ENGIE SA': 'engie',\n",
    "    'Porsche Leipzig GmbH': 'porsche-ag',\n",
    "    'BMW Finance': 'bmw',\n",
    "    'ENGIE SOLUTION': 'engie',\n",
    "    'Volkswagen Automobile Berlin G': 'volkswagen',\n",
    "    'RWE AG': 'rwe',\n",
    "    'Seat': 'seat',\n",
    "    'EON': 'e.on',\n",
    "    'BMW Centrauto': 'bmw',\n",
    "    'BMW Group Belux': 'bmw',\n",
    "    'Skoda Autohaus Liebe': 'skoda',\n",
    "    'Porsche Niederlassung Stuttgar': 'porsche-ag',\n",
    "    'E.On': 'e.on',\n",
    "    'VOLVO CARS GENT': 'volvo',\n",
    "    'Bestseller': 'bestseller',\n",
    "    'Volkswagen Zentrum Fulda GmbH ': 'volkswagen',\n",
    "    'ENDESA, S.A.': 'endesa',\n",
    "    'E.ON Energilösningar AB': 'e.on',\n",
    "    'Volkswagen Financial Service': 'volkswagen',\n",
    "    'EDF Energies Nouvelles': 'edf',\n",
    "    'RWE Technology International G': 'rwe',\n",
    "    'RENAULT ENGLOS': 'renault',\n",
    "    'Porsche Niederlassung Berlin': 'porsche-ag',\n",
    "    'Volkswagen Automobile Hamburg': 'volkswagen',\n",
    "    'Audi': 'audi',\n",
    "    'RWE Generation SE': 'rwe',\n",
    "    'Porsche Zentrum Magdeburg': 'porsche-ag',\n",
    "    'BMW & MINI': 'bmw',\n",
    "    'BMW Bank GmbH': 'bmw',\n",
    "    'ENGIE Digital': 'engie',\n",
    "    'Orsted': 'orsted',\n",
    "    'Renault Sport': 'renault',\n",
    "    'Pandora Jewelry': 'pandora-jewelry',\n",
    "    'RWE Supply & Trading GmbH': 'rwe',\n",
    "    'Volkswagen Automobile Frankfur': 'volkswagen',\n",
    "    'Engie Axima': 'engie',\n",
    "    'Pandora': 'pandora-jewelry',\n",
    "    'Porsche Financial Services Gmb': 'porsche-ag',\n",
    "    'Porsche Zentrum Lörrach': 'porsche-ag',\n",
    "    'Porsche Zentrum Karlsruhe': 'porsche-ag',\n",
    "    'VOLVO GROUP BELGIUM': 'volvo',\n",
    "    'Volkswagen Retail Dienstleistu': 'volkswagen',\n",
    "    'Daimler Gastronomie GmbH': 'daimler-ag',\n",
    "    'Réseau BMW France': 'bmw',\n",
    "    'Skoda Autohaus H. Tietjen': 'skoda',\n",
    "    'Porsche Zentrum Aachen': 'porsche-ag',\n",
    "    'Porsche Zentrum Bamberg': 'porsche-ag',\n",
    "    'Daimler Protics GmbH': 'daimler-ag',\n",
    "    'ZARA BE': 'zara',\n",
    "    'RWE': 'rwe',\n",
    "    'BMW Distribution': 'bmw',\n",
    "    'BESTSELLER BELGIUM': 'bestseller',\n",
    "    'BMW Discar': 'bmw',\n",
    "    'Volkswagen Financial Services': 'volkswagen',\n",
    "    'Daimler Real Estate GmbH': 'daimler-ag',\n",
    "    'PUMA NORWAY AS': 'puma',\n",
    "    'Zara': 'zara',\n",
    "    'Alphabet Fuhrparkmanagement Gm': 'unknown',\n",
    "    'Bestseller Textilhandels GmbH': 'bestseller',\n",
    "    'Porsche Niederlassung Hamburg': 'porsche-ag',\n",
    "    'Volkswagen Gebrauchtfahrzeugha': 'volkswagen',\n",
    "    'BMW M GmbH': 'bmw',\n",
    "    'Engie Digital': 'engie',\n",
    "    'Porsche Zentrum Landshut': 'porsche-ag',\n",
    "    'Volkswagen Group Services': 'volkswagen',\n",
    "    'VOLVO': 'volvo',\n",
    "    'Porsche Zentrum Allgäu': 'porsche-ag',\n",
    "    'Porsche Zentrum Dortmund': 'porsche-ag',\n",
    "    'ENGIE Refrigeration GmbH': 'engie',\n",
    "    'Fortum': 'fortum',\n",
    "    'Skoda Centrum Düsseldorf GmbH ': 'skoda',\n",
    "    'COFELY': 'engie',\n",
    "    'H & M - HENNES & MAURITZ': 'h&m',\n",
    "    'Volvo Group Trucks Central Eur': 'volvo',\n",
    "    'Endesa': 'endesa',\n",
    "    'BMW CH': 'bmw',\n",
    "    'BMW Financial Services': 'bmw',\n",
    "    'Porsche Zentrum Darmstadt': 'porsche-ag',\n",
    "    'Porsche Zentrum Saarland': 'porsche-ag',\n",
    "    'Porsche Deutschland GmbH': 'porsche-ag',\n",
    "    'Škoda': 'skoda',\n",
    "    'Volkswagen Trelleborg': 'volkswagen',\n",
    "    'Skoda Stockholm': 'skoda',\n",
    "    'Porsche Zentrum Kiel': 'porsche-ag',\n",
    "    'Engie': 'engie',\n",
    "    'ENGIE GBS': 'engie',\n",
    "    'PORSCHE': 'porsche-ag',\n",
    "    'ENGIE Axima Germany GmbH': 'engie',\n",
    "    'ENGIE Austria': 'engie',\n",
    "    'Porsche Zentrum Bayreuth': 'porsche-ag',\n",
    "    'Bestseller NL (Doek Retail)': 'bestseller',\n",
    "    'RENAULT GRASSER': 'renault',\n",
    "    'Porsche Zentrum Baden-Baden': 'porsche-ag',\n",
    "    'Porsche Zentrum Mannheim': 'porsche-ag',\n",
    "    'RENAULT CARVIN': 'renault',\n",
    "    'BESTSELLER WHOLESALE BENELUX B': 'bestseller',\n",
    "    'JD': 'jd-sports-fashion-plc', \n",
    "    'SSE plc': 'sse-plc', \n",
    "    'BMW (UK) Ltd.': 'bmw', \n",
    "    'BMW Financial Services (GB) Lt': 'bmw', \n",
    "    'EDF Energy Limited': 'edf', \n",
    "    'EDF Trading': 'edf', \n",
    "    'BMW Group Retail': 'bmw',\n",
    "    'TaylorMade': 'unknown', \n",
    "    'National Grid': 'national-grid', \n",
    "    'Volkswagen Commercial Vehicles': 'volkswagen',\n",
    "    'Renault UK': 'renault',\n",
    "    'JD Sports Fashion PLC': 'jd-sports-fashion-plc',\n",
    "    'BMW Hams Hall Motoren GmbH': 'bmw', \n",
    "    'ENGIE Laborelec': 'engie', \n",
    "    'Audi Brussels': 'audi',\n",
    "    'Skoda': 'skoda', \n",
    "    'Ørsted A/S': 'orsted', \n",
    "    'BMW Car IT GmbH': 'bmw', \n",
    "    'adidas sport GmbH': 'adidas',\n",
    "    'Daimler Mobility Services GmbH': 'daimler-ag', \n",
    "    'ENGIE UK': 'engie', \n",
    "    'Gucci America Inc': 'gucci',\n",
    "    'Alphabet International GmbH': 'unknown', \n",
    "    'E.ON Sverige': 'e.on',\n",
    "    'Pandora Sutton Coldfield': 'pandora-jewelry', \n",
    "    'Bestsellers Ltd': 'bestseller', \n",
    "    'Volvo': 'volvo',\n",
    "    'H&M Group Customer Service Cen': 'h&m', \n",
    "    'BMW Group Northern Europe': 'bmw',\n",
    "    'Swindon Pressings Ltd.': 'bmw', \n",
    "    'BMW Northern Europe': 'bmw',\n",
    "    'H&M Customer Service Center': 'h&m', \n",
    "    'Zara Sverige AB': 'zara',\n",
    "    'ENGIE Lab CRIGEN': 'engie', \n",
    "    'E.ON UK': 'e.on', \n",
    "    'PANDORA': 'pandora-jewelry',\n",
    "    'SKODA BORDEAUX': 'skoda', \n",
    "    'Volvo Entreprenørmaskiner A/S': 'volvo', \n",
    "    'Engie Green': 'engie',\n",
    "    'VOLKSWAGEN FINANCIAL SERVICES': 'volkswagen', \n",
    "    'RENAULT ARRAS': 'renault',\n",
    "    'Porsche Zentrum Hegau-Bodensee': 'porsche-ag', \n",
    "    'Porsche Zentrum München Olympi': 'porsche-ag'\n",
    "}"
   ]
  },
  {
   "cell_type": "code",
   "execution_count": 7,
   "metadata": {},
   "outputs": [],
   "source": [
    "# find missing mappings between indeed company names and \n",
    "# predefined company names and put the \"missing\" placeholder \n",
    "df['comp_name'] = df['company'].apply(lambda x: d_comp[x] if x in d_comp.keys() else 'missing')"
   ]
  },
  {
   "cell_type": "code",
   "execution_count": 8,
   "metadata": {},
   "outputs": [
    {
     "data": {
      "text/plain": [
       "0"
      ]
     },
     "execution_count": 8,
     "metadata": {},
     "output_type": "execute_result"
    }
   ],
   "source": [
    "# count whether a company name was not matched in the \n",
    "# d_comp dictionary assigned above. \n",
    "# if other than 0, add mapping to dict\n",
    "sum(df['comp_name'] == 'missing')"
   ]
  },
  {
   "cell_type": "code",
   "execution_count": 9,
   "metadata": {},
   "outputs": [
    {
     "data": {
      "text/plain": [
       "array([], dtype=object)"
      ]
     },
     "execution_count": 9,
     "metadata": {},
     "output_type": "execute_result"
    }
   ],
   "source": [
    "# print which company names do not have a mapping yet\n",
    "df[df['comp_name'] == 'missing']['company'].unique()"
   ]
  },
  {
   "cell_type": "code",
   "execution_count": 10,
   "metadata": {},
   "outputs": [
    {
     "data": {
      "text/plain": [
       "engie                    957\n",
       "adidas                   642\n",
       "bmw                      538\n",
       "volvo                    395\n",
       "volkswagen               334\n",
       "sse-plc                  327\n",
       "jd-sports-fashion-plc    307\n",
       "edf                      295\n",
       "orsted                   289\n",
       "rwe                      245\n",
       "audi                     236\n",
       "louis-vuitton            197\n",
       "puma                     183\n",
       "national-grid            179\n",
       "h&m                      164\n",
       "zara                     158\n",
       "e.on                     135\n",
       "porsche-ag               135\n",
       "pandora-jewelry          129\n",
       "renault                  115\n",
       "bestseller               111\n",
       "daimler-ag               109\n",
       "unknown                   62\n",
       "enel                      55\n",
       "endesa                    35\n",
       "fortum                    29\n",
       "seat                      22\n",
       "skoda                     19\n",
       "primark                   17\n",
       "peugeot                   12\n",
       "gucci                      1\n",
       "Name: comp_name, dtype: int64"
      ]
     },
     "execution_count": 10,
     "metadata": {},
     "output_type": "execute_result"
    }
   ],
   "source": [
    "# we need this statistic to be a bit balanced\n",
    "# thus update the code of the translation script to only\n",
    "# look for companies with less than 100 counts\n",
    "df['comp_name'].value_counts()\n",
    "\n",
    "# already translated, how many in total\n",
    "# ->> Fortum, 30\n",
    "# ->> Peugeot, \n",
    "# ->> Seat, "
   ]
  },
  {
   "cell_type": "code",
   "execution_count": 11,
   "metadata": {},
   "outputs": [
    {
     "name": "stdout",
     "output_type": "stream",
     "text": [
      "Duplicated postings: 407\n",
      "Number of companies with less than 30 postings: 6\n"
     ]
    }
   ],
   "source": [
    "# direct duplicates\n",
    "print('Duplicated postings: {}'.format(sum(df['text_en'].duplicated())))\n",
    "df['duplicated'] = df['text_en'].duplicated()\n",
    "\n",
    "# companies that are not scored will be used for training\n",
    "comps = list(df['comp_name'].unique())\n",
    "training_comps = list(df['comp_name'].value_counts().loc[(df['comp_name'].value_counts() < 30)].index)\n",
    "print('Number of companies with less than 30 postings: {}'.format(len(training_comps)))\n",
    "test_comps = [comp for comp in comps if comp not in training_comps]\n",
    "df['is_training'] = df['comp_name'].apply(lambda x: True if x in training_comps else False)\n"
   ]
  },
  {
   "cell_type": "code",
   "execution_count": 12,
   "metadata": {},
   "outputs": [],
   "source": [
    "# retrieve indices of job_postings which are about to be dropped\n",
    "unknowns = list(df.loc[df['comp_name'] == 'unknown'].index)\n",
    "duplicates = list(df.loc[df['duplicated'] == True].index)\n",
    "too_less = list(df.loc[df['is_training'] == True].index)"
   ]
  },
  {
   "cell_type": "code",
   "execution_count": 13,
   "metadata": {},
   "outputs": [
    {
     "name": "stdout",
     "output_type": "stream",
     "text": [
      "Removed: 553 from 6432\n"
     ]
    }
   ],
   "source": [
    "# drop job postings which are excluded from the training set\n",
    "tic = df.shape[0]\n",
    "df.drop(unknowns + duplicates + too_less, inplace=True, axis=0)\n",
    "nb_rm = tic - df.shape[0]\n",
    "print('Removed: {} from {}'.format(nb_rm, tic))"
   ]
  },
  {
   "cell_type": "code",
   "execution_count": 14,
   "metadata": {},
   "outputs": [],
   "source": [
    "def calculate_remaining_time(start, time, nb_training_data):\n",
    "    t_diff = time - start\n",
    "    frac_todo = (df.shape[0] - nb_training_data) / df.shape[0]\n",
    "    frac_done = 1 - frac_todo\n",
    "    t_est = (t_diff / frac_done) - t_diff\n",
    "    print('Est. Remaining Time: {}min'.format(round(t_est/60, 2)))"
   ]
  },
  {
   "cell_type": "code",
   "execution_count": 22,
   "metadata": {},
   "outputs": [
    {
     "data": {
      "text/html": [
       "<div>\n",
       "<style scoped>\n",
       "    .dataframe tbody tr th:only-of-type {\n",
       "        vertical-align: middle;\n",
       "    }\n",
       "\n",
       "    .dataframe tbody tr th {\n",
       "        vertical-align: top;\n",
       "    }\n",
       "\n",
       "    .dataframe thead th {\n",
       "        text-align: right;\n",
       "    }\n",
       "</style>\n",
       "<table border=\"1\" class=\"dataframe\">\n",
       "  <thead>\n",
       "    <tr style=\"text-align: right;\">\n",
       "      <th></th>\n",
       "      <th>id</th>\n",
       "      <th>date</th>\n",
       "      <th>company</th>\n",
       "      <th>title</th>\n",
       "      <th>meta</th>\n",
       "      <th>text</th>\n",
       "      <th>src_lang</th>\n",
       "      <th>text_en</th>\n",
       "      <th>test_data</th>\n",
       "      <th>comp_name</th>\n",
       "      <th>duplicated</th>\n",
       "      <th>is_training</th>\n",
       "    </tr>\n",
       "  </thead>\n",
       "  <tbody>\n",
       "    <tr>\n",
       "      <th>0</th>\n",
       "      <td>000715f8e90e7525</td>\n",
       "      <td>2020-11-20</td>\n",
       "      <td>adidas</td>\n",
       "      <td>Retail Assistant - 450 EUR Basis FO Brunnthal ...</td>\n",
       "      <td>Teilzeit</td>\n",
       "      <td>Zweck &amp; Gesamtrelevanz fur die Organisation\\nU...</td>\n",
       "      <td>de</td>\n",
       "      <td>Purpose and overall relevance to the organizat...</td>\n",
       "      <td>0</td>\n",
       "      <td>adidas</td>\n",
       "      <td>False</td>\n",
       "      <td>False</td>\n",
       "    </tr>\n",
       "    <tr>\n",
       "      <th>1</th>\n",
       "      <td>0009acde9b6ebbb4</td>\n",
       "      <td>2020-12-19</td>\n",
       "      <td>H&amp;M</td>\n",
       "      <td>Vendeur (f/h) - CDI 25h - Mulhouse</td>\n",
       "      <td>None</td>\n",
       "      <td>Description de l'entreprise\\n\\nEs-tu prêt pour...</td>\n",
       "      <td>fr</td>\n",
       "      <td>Company Description\\n\\nAre you ready for a fas...</td>\n",
       "      <td>0</td>\n",
       "      <td>h&amp;m</td>\n",
       "      <td>False</td>\n",
       "      <td>False</td>\n",
       "    </tr>\n",
       "    <tr>\n",
       "      <th>4</th>\n",
       "      <td>001a2dc8960b796f</td>\n",
       "      <td>2020-11-25</td>\n",
       "      <td>JD</td>\n",
       "      <td>Airport- Sales Assistant Full Time</td>\n",
       "      <td>None</td>\n",
       "      <td>Sales Assistant\\nEstablished in 1981 with a si...</td>\n",
       "      <td>en</td>\n",
       "      <td>Sales Assistant\\nEstablished in 1981 with a si...</td>\n",
       "      <td>0</td>\n",
       "      <td>jd-sports-fashion-plc</td>\n",
       "      <td>False</td>\n",
       "      <td>False</td>\n",
       "    </tr>\n",
       "    <tr>\n",
       "      <th>5</th>\n",
       "      <td>002c4b149ea7ce81</td>\n",
       "      <td>2020-11-19</td>\n",
       "      <td>Pandora Jewelry</td>\n",
       "      <td>Manager, Consumer Insights</td>\n",
       "      <td>None</td>\n",
       "      <td>Are you an expert on consumer insights? And do...</td>\n",
       "      <td>en</td>\n",
       "      <td>Are you an expert on consumer insights? And do...</td>\n",
       "      <td>0</td>\n",
       "      <td>pandora-jewelry</td>\n",
       "      <td>False</td>\n",
       "      <td>False</td>\n",
       "    </tr>\n",
       "    <tr>\n",
       "      <th>8</th>\n",
       "      <td>0033ed62414f14d6</td>\n",
       "      <td>2021-02-07</td>\n",
       "      <td>ENGIE</td>\n",
       "      <td>Technical Services Manager</td>\n",
       "      <td>None</td>\n",
       "      <td>ENGIE is a leading energy and services company...</td>\n",
       "      <td>en</td>\n",
       "      <td>ENGIE is a leading energy and services company...</td>\n",
       "      <td>0</td>\n",
       "      <td>engie</td>\n",
       "      <td>False</td>\n",
       "      <td>False</td>\n",
       "    </tr>\n",
       "  </tbody>\n",
       "</table>\n",
       "</div>"
      ],
      "text/plain": [
       "                 id        date          company  \\\n",
       "0  000715f8e90e7525  2020-11-20           adidas   \n",
       "1  0009acde9b6ebbb4  2020-12-19              H&M   \n",
       "4  001a2dc8960b796f  2020-11-25               JD   \n",
       "5  002c4b149ea7ce81  2020-11-19  Pandora Jewelry   \n",
       "8  0033ed62414f14d6  2021-02-07            ENGIE   \n",
       "\n",
       "                                               title      meta  \\\n",
       "0  Retail Assistant - 450 EUR Basis FO Brunnthal ...  Teilzeit   \n",
       "1                 Vendeur (f/h) - CDI 25h - Mulhouse      None   \n",
       "4                 Airport- Sales Assistant Full Time      None   \n",
       "5                         Manager, Consumer Insights      None   \n",
       "8                         Technical Services Manager      None   \n",
       "\n",
       "                                                text src_lang  \\\n",
       "0  Zweck & Gesamtrelevanz fur die Organisation\\nU...       de   \n",
       "1  Description de l'entreprise\\n\\nEs-tu prêt pour...       fr   \n",
       "4  Sales Assistant\\nEstablished in 1981 with a si...       en   \n",
       "5  Are you an expert on consumer insights? And do...       en   \n",
       "8  ENGIE is a leading energy and services company...       en   \n",
       "\n",
       "                                             text_en test_data  \\\n",
       "0  Purpose and overall relevance to the organizat...         0   \n",
       "1  Company Description\\n\\nAre you ready for a fas...         0   \n",
       "4  Sales Assistant\\nEstablished in 1981 with a si...         0   \n",
       "5  Are you an expert on consumer insights? And do...         0   \n",
       "8  ENGIE is a leading energy and services company...         0   \n",
       "\n",
       "               comp_name  duplicated  is_training  \n",
       "0                 adidas       False        False  \n",
       "1                    h&m       False        False  \n",
       "4  jd-sports-fashion-plc       False        False  \n",
       "5        pandora-jewelry       False        False  \n",
       "8                  engie       False        False  "
      ]
     },
     "execution_count": 22,
     "metadata": {},
     "output_type": "execute_result"
    }
   ],
   "source": [
    "df.head()"
   ]
  },
  {
   "cell_type": "code",
   "execution_count": 16,
   "metadata": {
    "scrolled": true
   },
   "outputs": [
    {
     "name": "stdout",
     "output_type": "stream",
     "text": [
      "Est. Remaining Time: 16.0min\n",
      "Est. Remaining Time: 16.91min\n",
      "Est. Remaining Time: 18.68min\n",
      "Est. Remaining Time: 21.39min\n",
      "Est. Remaining Time: 21.72min\n",
      "Est. Remaining Time: 21.37min\n",
      "Est. Remaining Time: 20.13min\n",
      "Est. Remaining Time: 17.84min\n",
      "Est. Remaining Time: 32.17min\n",
      "Est. Remaining Time: 21.28min\n",
      "Est. Remaining Time: 9.18min\n"
     ]
    },
    {
     "data": {
      "text/plain": [
       "0        None\n",
       "1        None\n",
       "4        None\n",
       "5        None\n",
       "8        None\n",
       "         ... \n",
       "11009    None\n",
       "11013    None\n",
       "11014    None\n",
       "11016    None\n",
       "11017    None\n",
       "Length: 5879, dtype: object"
      ]
     },
     "execution_count": 16,
     "metadata": {},
     "output_type": "execute_result"
    }
   ],
   "source": [
    "df_sentence = pd.DataFrame(columns=['id', 'company', 'sentence'])\n",
    "counter = 0\n",
    "rows = 0\n",
    "tic = time.time()\n",
    "def make_sentences(row):\n",
    "    global counter\n",
    "    global rows\n",
    "    jId = row[0]\n",
    "    company = row[9]\n",
    "    text = row[7]\n",
    "    lines = text.split('\\n')\n",
    "    for line in lines:\n",
    "        sentences = sent_tokenize(line)\n",
    "        for sentence in sentences: \n",
    "            df_sentence.loc[counter] = [jId, company, sentence]\n",
    "            counter += 1\n",
    "    rows += 1\n",
    "    if (rows % 500) == 0: \n",
    "        calculate_remaining_time(tic, time.time(), rows)\n",
    "\n",
    "df.apply(lambda x: make_sentences(x), axis=1)"
   ]
  },
  {
   "cell_type": "code",
   "execution_count": 43,
   "metadata": {},
   "outputs": [],
   "source": [
    "def is_short_sentence(sentence):\n",
    "    return len(word_tokenize(sentence))"
   ]
  },
  {
   "cell_type": "code",
   "execution_count": 44,
   "metadata": {},
   "outputs": [],
   "source": [
    "df_sentence['nb_tokens'] = df_sentence['sentence'].apply(lambda x: is_short_sentence(x))"
   ]
  },
  {
   "cell_type": "code",
   "execution_count": 45,
   "metadata": {},
   "outputs": [
    {
     "data": {
      "text/html": [
       "<div>\n",
       "<style scoped>\n",
       "    .dataframe tbody tr th:only-of-type {\n",
       "        vertical-align: middle;\n",
       "    }\n",
       "\n",
       "    .dataframe tbody tr th {\n",
       "        vertical-align: top;\n",
       "    }\n",
       "\n",
       "    .dataframe thead th {\n",
       "        text-align: right;\n",
       "    }\n",
       "</style>\n",
       "<table border=\"1\" class=\"dataframe\">\n",
       "  <thead>\n",
       "    <tr style=\"text-align: right;\">\n",
       "      <th></th>\n",
       "      <th>id</th>\n",
       "      <th>sentence</th>\n",
       "      <th>too_short</th>\n",
       "      <th>comp_name</th>\n",
       "      <th>nb_tokens</th>\n",
       "    </tr>\n",
       "  </thead>\n",
       "  <tbody>\n",
       "    <tr>\n",
       "      <th>0</th>\n",
       "      <td>000715f8e90e7525</td>\n",
       "      <td>Purpose and overall relevance to the organization</td>\n",
       "      <td>False</td>\n",
       "      <td>adidas</td>\n",
       "      <td>7</td>\n",
       "    </tr>\n",
       "    <tr>\n",
       "      <th>1</th>\n",
       "      <td>000715f8e90e7525</td>\n",
       "      <td>Assists in the implementation of our store processes (warehouse and area) and carries out the as...</td>\n",
       "      <td>False</td>\n",
       "      <td>adidas</td>\n",
       "      <td>21</td>\n",
       "    </tr>\n",
       "    <tr>\n",
       "      <th>2</th>\n",
       "      <td>000715f8e90e7525</td>\n",
       "      <td>Assists in ensuring that the range of goods is available to the customer by helping when goods h...</td>\n",
       "      <td>False</td>\n",
       "      <td>adidas</td>\n",
       "      <td>29</td>\n",
       "    </tr>\n",
       "    <tr>\n",
       "      <th>3</th>\n",
       "      <td>000715f8e90e7525</td>\n",
       "      <td>Responsibilities</td>\n",
       "      <td>True</td>\n",
       "      <td>adidas</td>\n",
       "      <td>1</td>\n",
       "    </tr>\n",
       "    <tr>\n",
       "      <th>4</th>\n",
       "      <td>000715f8e90e7525</td>\n",
       "      <td>Preparation of goods (unpacking, securing, labeling, ironing out)</td>\n",
       "      <td>False</td>\n",
       "      <td>adidas</td>\n",
       "      <td>13</td>\n",
       "    </tr>\n",
       "  </tbody>\n",
       "</table>\n",
       "</div>"
      ],
      "text/plain": [
       "                 id  \\\n",
       "0  000715f8e90e7525   \n",
       "1  000715f8e90e7525   \n",
       "2  000715f8e90e7525   \n",
       "3  000715f8e90e7525   \n",
       "4  000715f8e90e7525   \n",
       "\n",
       "                                                                                              sentence  \\\n",
       "0                                                    Purpose and overall relevance to the organization   \n",
       "1  Assists in the implementation of our store processes (warehouse and area) and carries out the as...   \n",
       "2  Assists in ensuring that the range of goods is available to the customer by helping when goods h...   \n",
       "3                                                                                     Responsibilities   \n",
       "4                                    Preparation of goods (unpacking, securing, labeling, ironing out)   \n",
       "\n",
       "   too_short comp_name  nb_tokens  \n",
       "0      False    adidas          7  \n",
       "1      False    adidas         21  \n",
       "2      False    adidas         29  \n",
       "3       True    adidas          1  \n",
       "4      False    adidas         13  "
      ]
     },
     "execution_count": 45,
     "metadata": {},
     "output_type": "execute_result"
    }
   ],
   "source": [
    "df_sentence.head()"
   ]
  },
  {
   "cell_type": "code",
   "execution_count": 46,
   "metadata": {
    "scrolled": true
   },
   "outputs": [
    {
     "data": {
      "text/plain": [
       "13.903008875034299"
      ]
     },
     "execution_count": 46,
     "metadata": {},
     "output_type": "execute_result"
    }
   ],
   "source": [
    "# Avg tokens per sentence \n",
    "df_sentence['nb_tokens'].mean()"
   ]
  },
  {
   "cell_type": "code",
   "execution_count": 47,
   "metadata": {
    "scrolled": true
   },
   "outputs": [
    {
     "data": {
      "text/plain": [
       "11.957277161961427"
      ]
     },
     "execution_count": 47,
     "metadata": {},
     "output_type": "execute_result"
    }
   ],
   "source": [
    "# Std tokens in sentences\n",
    "df_sentence['nb_tokens'].std()"
   ]
  },
  {
   "cell_type": "code",
   "execution_count": 50,
   "metadata": {},
   "outputs": [],
   "source": [
    "# Exclude sentences with less than four words\n",
    "df_relevant = df_sentence[df_sentence['nb_tokens'] >= 4]"
   ]
  },
  {
   "cell_type": "code",
   "execution_count": 61,
   "metadata": {},
   "outputs": [],
   "source": [
    "test_comp_counter = {comp: 0 for comp in test_comps} \n",
    "\n",
    "def is_test(row):\n",
    "    \"\"\"\n",
    "    The gets company name and job description text as input which are \n",
    "    sampled from the dataframe in random fashion. \n",
    "    It then adds 30 samples of each company to the test set. Each text is then stored\n",
    "    in a file calles by the company. \n",
    "    The function returns True or False depending on whether the sample was \n",
    "    put in the test set or not. \n",
    "    \"\"\"\n",
    "    \n",
    "    jId = row[0]\n",
    "    company = row[1]\n",
    "    if company in test_comp_counter.keys():\n",
    "        if test_comp_counter[company] < 30:\n",
    "            test_comp_counter[company] += 1\n",
    "            return True\n",
    "        else:\n",
    "            return False\n",
    "    \n",
    "    "
   ]
  },
  {
   "cell_type": "code",
   "execution_count": 26,
   "metadata": {},
   "outputs": [],
   "source": [
    "# randomly shuffles the rows of df and resets the indices\n",
    "df_relevant = df_relevant.sample(frac=1).reset_index(drop=True)"
   ]
  },
  {
   "cell_type": "code",
   "execution_count": 51,
   "metadata": {},
   "outputs": [],
   "source": [
    "df_red = df_relevant.drop_duplicates('id')"
   ]
  },
  {
   "cell_type": "code",
   "execution_count": 62,
   "metadata": {},
   "outputs": [
    {
     "name": "stderr",
     "output_type": "stream",
     "text": [
      "<ipython-input-62-6d4472f7b4ab>:2: SettingWithCopyWarning: \n",
      "A value is trying to be set on a copy of a slice from a DataFrame.\n",
      "Try using .loc[row_indexer,col_indexer] = value instead\n",
      "\n",
      "See the caveats in the documentation: https://pandas.pydata.org/pandas-docs/stable/user_guide/indexing.html#returning-a-view-versus-a-copy\n",
      "  df_red['is_testset'] = df_red[['id', 'comp_name']].apply(lambda x: is_test(x), axis=1)\n"
     ]
    }
   ],
   "source": [
    "# apply the is_test function\n",
    "df_red['is_testset'] = df_red[['id', 'comp_name']].apply(lambda x: is_test(x), axis=1)"
   ]
  },
  {
   "cell_type": "code",
   "execution_count": 67,
   "metadata": {},
   "outputs": [
    {
     "data": {
      "text/plain": [
       "True"
      ]
     },
     "execution_count": 67,
     "metadata": {},
     "output_type": "execute_result"
    }
   ],
   "source": [
    "#did we assign 30 jobs for each company to the test set?\n",
    "df_red.is_testset.sum() == df_red.comp_name.nunique() * 30"
   ]
  },
  {
   "cell_type": "code",
   "execution_count": 70,
   "metadata": {},
   "outputs": [],
   "source": [
    "df_relevant = df_relevant.merge(df_red[['id', 'is_testset']], on='id', how='left')"
   ]
  },
  {
   "cell_type": "code",
   "execution_count": 71,
   "metadata": {},
   "outputs": [
    {
     "data": {
      "text/html": [
       "<div>\n",
       "<style scoped>\n",
       "    .dataframe tbody tr th:only-of-type {\n",
       "        vertical-align: middle;\n",
       "    }\n",
       "\n",
       "    .dataframe tbody tr th {\n",
       "        vertical-align: top;\n",
       "    }\n",
       "\n",
       "    .dataframe thead th {\n",
       "        text-align: right;\n",
       "    }\n",
       "</style>\n",
       "<table border=\"1\" class=\"dataframe\">\n",
       "  <thead>\n",
       "    <tr style=\"text-align: right;\">\n",
       "      <th></th>\n",
       "      <th>id</th>\n",
       "      <th>sentence</th>\n",
       "      <th>too_short</th>\n",
       "      <th>comp_name</th>\n",
       "      <th>nb_tokens</th>\n",
       "      <th>is_testset</th>\n",
       "    </tr>\n",
       "  </thead>\n",
       "  <tbody>\n",
       "    <tr>\n",
       "      <th>0</th>\n",
       "      <td>000715f8e90e7525</td>\n",
       "      <td>Purpose and overall relevance to the organization</td>\n",
       "      <td>False</td>\n",
       "      <td>adidas</td>\n",
       "      <td>7</td>\n",
       "      <td>True</td>\n",
       "    </tr>\n",
       "    <tr>\n",
       "      <th>1</th>\n",
       "      <td>000715f8e90e7525</td>\n",
       "      <td>Assists in the implementation of our store processes (warehouse and area) and carries out the as...</td>\n",
       "      <td>False</td>\n",
       "      <td>adidas</td>\n",
       "      <td>21</td>\n",
       "      <td>True</td>\n",
       "    </tr>\n",
       "    <tr>\n",
       "      <th>2</th>\n",
       "      <td>000715f8e90e7525</td>\n",
       "      <td>Assists in ensuring that the range of goods is available to the customer by helping when goods h...</td>\n",
       "      <td>False</td>\n",
       "      <td>adidas</td>\n",
       "      <td>29</td>\n",
       "      <td>True</td>\n",
       "    </tr>\n",
       "    <tr>\n",
       "      <th>3</th>\n",
       "      <td>000715f8e90e7525</td>\n",
       "      <td>Preparation of goods (unpacking, securing, labeling, ironing out)</td>\n",
       "      <td>False</td>\n",
       "      <td>adidas</td>\n",
       "      <td>13</td>\n",
       "      <td>True</td>\n",
       "    </tr>\n",
       "    <tr>\n",
       "      <th>4</th>\n",
       "      <td>000715f8e90e7525</td>\n",
       "      <td>Placement / filling of goods on the sales area</td>\n",
       "      <td>False</td>\n",
       "      <td>adidas</td>\n",
       "      <td>9</td>\n",
       "      <td>True</td>\n",
       "    </tr>\n",
       "  </tbody>\n",
       "</table>\n",
       "</div>"
      ],
      "text/plain": [
       "                 id  \\\n",
       "0  000715f8e90e7525   \n",
       "1  000715f8e90e7525   \n",
       "2  000715f8e90e7525   \n",
       "3  000715f8e90e7525   \n",
       "4  000715f8e90e7525   \n",
       "\n",
       "                                                                                              sentence  \\\n",
       "0                                                    Purpose and overall relevance to the organization   \n",
       "1  Assists in the implementation of our store processes (warehouse and area) and carries out the as...   \n",
       "2  Assists in ensuring that the range of goods is available to the customer by helping when goods h...   \n",
       "3                                    Preparation of goods (unpacking, securing, labeling, ironing out)   \n",
       "4                                                       Placement / filling of goods on the sales area   \n",
       "\n",
       "   too_short comp_name  nb_tokens  is_testset  \n",
       "0      False    adidas          7        True  \n",
       "1      False    adidas         21        True  \n",
       "2      False    adidas         29        True  \n",
       "3      False    adidas         13        True  \n",
       "4      False    adidas          9        True  "
      ]
     },
     "execution_count": 71,
     "metadata": {},
     "output_type": "execute_result"
    }
   ],
   "source": [
    "df_relevant.head()"
   ]
  },
  {
   "cell_type": "code",
   "execution_count": 73,
   "metadata": {},
   "outputs": [],
   "source": [
    "df_train_dev = df_relevant[df_relevant['is_testset']==False][['id', 'comp_name', 'sentence']]"
   ]
  },
  {
   "cell_type": "code",
   "execution_count": 74,
   "metadata": {},
   "outputs": [],
   "source": [
    "df_test = df_relevant[df_relevant['is_testset']==True][['id', 'comp_name', 'sentence']]"
   ]
  },
  {
   "cell_type": "code",
   "execution_count": null,
   "metadata": {},
   "outputs": [],
   "source": [
    "df"
   ]
  }
 ],
 "metadata": {
  "kernelspec": {
   "display_name": "Python 3",
   "language": "python",
   "name": "python3"
  },
  "language_info": {
   "codemirror_mode": {
    "name": "ipython",
    "version": 3
   },
   "file_extension": ".py",
   "mimetype": "text/x-python",
   "name": "python",
   "nbconvert_exporter": "python",
   "pygments_lexer": "ipython3",
   "version": "3.9.1"
  }
 },
 "nbformat": 4,
 "nbformat_minor": 4
}
