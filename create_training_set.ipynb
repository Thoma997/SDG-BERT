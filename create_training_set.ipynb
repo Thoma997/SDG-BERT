{
 "cells": [
  {
   "cell_type": "markdown",
   "id": "informed-benjamin",
   "metadata": {},
   "source": [
    "# Create the Training Data\n",
    "\n",
    "Load the SDG related and non-SDG related data. \n",
    "Cleansing contains: \n",
    "- nan removal \n",
    "- renaming of columns \n",
    "- drop redundant features\n",
    "- split data to sentences with \". \" separator\n",
    "- manual cleaning of sentences\n",
    "    - contatenating wrongly split sentences at \"e.g. \"\n",
    "    - removing formatting issues from PDF parsing\n",
    "- concatenating the general and sdg datasets. \n",
    "\n",
    "Datasources: <br> \n",
    "General Data: https://www.kaggle.com/mikeortman/wikipedia-sentences <br>\n",
    "SDG Data: Various resources from United Nations "
   ]
  },
  {
   "cell_type": "code",
   "execution_count": 85,
   "id": "monetary-diesel",
   "metadata": {},
   "outputs": [],
   "source": [
    "import pandas as pd"
   ]
  },
  {
   "cell_type": "code",
   "execution_count": 86,
   "id": "biblical-smith",
   "metadata": {},
   "outputs": [],
   "source": [
    "# load SDG data\n",
    "df = pd.read_excel('./training_data/SDG_text.xlsx', None, engine='openpyxl')\n",
    "sheets = list(df.keys())\n",
    "num_classes = len(sheets)\n",
    "dfs = list()\n",
    "for sheet in sheets: \n",
    "    df = pd.read_excel('./training_data/SDG_text.xlsx', sheet, engine='openpyxl')\n",
    "    df['class'] = int(sheet[-2:])\n",
    "    dfs.append(df)\n",
    "    \n",
    "df = pd.concat(dfs)"
   ]
  },
  {
   "cell_type": "code",
   "execution_count": 87,
   "id": "dominant-rolling",
   "metadata": {},
   "outputs": [
    {
     "data": {
      "text/plain": [
       "(226, 3)"
      ]
     },
     "execution_count": 87,
     "metadata": {},
     "output_type": "execute_result"
    }
   ],
   "source": [
    "df.shape"
   ]
  },
  {
   "cell_type": "code",
   "execution_count": 88,
   "id": "amino-protection",
   "metadata": {},
   "outputs": [],
   "source": [
    "df = df.dropna()"
   ]
  },
  {
   "cell_type": "code",
   "execution_count": 89,
   "id": "flying-baking",
   "metadata": {},
   "outputs": [
    {
     "data": {
      "text/plain": [
       "(172, 3)"
      ]
     },
     "execution_count": 89,
     "metadata": {},
     "output_type": "execute_result"
    }
   ],
   "source": [
    "df.shape"
   ]
  },
  {
   "cell_type": "markdown",
   "id": "prescribed-morning",
   "metadata": {},
   "source": [
    "**Question**: need to sample 512 tokens statically - then it can be done here - or dynammically - then it needs to be done at a later stage."
   ]
  },
  {
   "cell_type": "code",
   "execution_count": 90,
   "id": "inappropriate-forest",
   "metadata": {},
   "outputs": [],
   "source": [
    "df = df.reset_index(drop=True)"
   ]
  },
  {
   "cell_type": "code",
   "execution_count": 91,
   "id": "fiscal-conversion",
   "metadata": {},
   "outputs": [],
   "source": [
    "df.drop(['Source'], inplace=True, axis=1)"
   ]
  },
  {
   "cell_type": "code",
   "execution_count": 92,
   "id": "exclusive-proposition",
   "metadata": {},
   "outputs": [
    {
     "data": {
      "text/html": [
       "<div>\n",
       "<style scoped>\n",
       "    .dataframe tbody tr th:only-of-type {\n",
       "        vertical-align: middle;\n",
       "    }\n",
       "\n",
       "    .dataframe tbody tr th {\n",
       "        vertical-align: top;\n",
       "    }\n",
       "\n",
       "    .dataframe thead th {\n",
       "        text-align: right;\n",
       "    }\n",
       "</style>\n",
       "<table border=\"1\" class=\"dataframe\">\n",
       "  <thead>\n",
       "    <tr style=\"text-align: right;\">\n",
       "      <th></th>\n",
       "      <th>Text</th>\n",
       "      <th>class</th>\n",
       "    </tr>\n",
       "  </thead>\n",
       "  <tbody>\n",
       "    <tr>\n",
       "      <th>0</th>\n",
       "      <td>End poverty in all its forms everywhere. By 20...</td>\n",
       "      <td>1</td>\n",
       "    </tr>\n",
       "    <tr>\n",
       "      <th>1</th>\n",
       "      <td>Despite progress under the MDGs, approximately...</td>\n",
       "      <td>1</td>\n",
       "    </tr>\n",
       "    <tr>\n",
       "      <th>2</th>\n",
       "      <td>Even before the coronavirus disease (COVID-19)...</td>\n",
       "      <td>1</td>\n",
       "    </tr>\n",
       "    <tr>\n",
       "      <th>3</th>\n",
       "      <td>The decline of extreme poverty continues, but ...</td>\n",
       "      <td>1</td>\n",
       "    </tr>\n",
       "    <tr>\n",
       "      <th>4</th>\n",
       "      <td>Giving people in every part of the world the s...</td>\n",
       "      <td>1</td>\n",
       "    </tr>\n",
       "  </tbody>\n",
       "</table>\n",
       "</div>"
      ],
      "text/plain": [
       "                                                Text  class\n",
       "0  End poverty in all its forms everywhere. By 20...      1\n",
       "1  Despite progress under the MDGs, approximately...      1\n",
       "2  Even before the coronavirus disease (COVID-19)...      1\n",
       "3  The decline of extreme poverty continues, but ...      1\n",
       "4  Giving people in every part of the world the s...      1"
      ]
     },
     "execution_count": 92,
     "metadata": {},
     "output_type": "execute_result"
    }
   ],
   "source": [
    "df.head()"
   ]
  },
  {
   "cell_type": "code",
   "execution_count": 51,
   "id": "pressing-roller",
   "metadata": {},
   "outputs": [],
   "source": [
    "# split sentences and output each sentence and its classfication \n",
    "# in a separate file for manual cleansing\n",
    "df_train = pd.DataFrame(columns=['sentence', 'class'])\n",
    "counter = 0\n",
    "def split_sentences(text, label):\n",
    "    global counter \n",
    "    sentences = text.split('. ')\n",
    "    for sentence in sentences: \n",
    "        row = [sentence + '. ', label]\n",
    "        df_train.loc[counter] = row\n",
    "        counter += 1"
   ]
  },
  {
   "cell_type": "code",
   "execution_count": 52,
   "id": "requested-adaptation",
   "metadata": {},
   "outputs": [
    {
     "data": {
      "text/plain": [
       "0      None\n",
       "1      None\n",
       "2      None\n",
       "3      None\n",
       "4      None\n",
       "       ... \n",
       "167    None\n",
       "168    None\n",
       "169    None\n",
       "170    None\n",
       "171    None\n",
       "Length: 172, dtype: object"
      ]
     },
     "execution_count": 52,
     "metadata": {},
     "output_type": "execute_result"
    }
   ],
   "source": [
    "df.apply(lambda x: split_sentences(x[0], x[1]), axis=1)"
   ]
  },
  {
   "cell_type": "code",
   "execution_count": 53,
   "id": "binary-postcard",
   "metadata": {},
   "outputs": [
    {
     "data": {
      "text/html": [
       "<div>\n",
       "<style scoped>\n",
       "    .dataframe tbody tr th:only-of-type {\n",
       "        vertical-align: middle;\n",
       "    }\n",
       "\n",
       "    .dataframe tbody tr th {\n",
       "        vertical-align: top;\n",
       "    }\n",
       "\n",
       "    .dataframe thead th {\n",
       "        text-align: right;\n",
       "    }\n",
       "</style>\n",
       "<table border=\"1\" class=\"dataframe\">\n",
       "  <thead>\n",
       "    <tr style=\"text-align: right;\">\n",
       "      <th></th>\n",
       "      <th>sentence</th>\n",
       "      <th>class</th>\n",
       "    </tr>\n",
       "  </thead>\n",
       "  <tbody>\n",
       "    <tr>\n",
       "      <th>0</th>\n",
       "      <td>End poverty in all its forms everywhere.</td>\n",
       "      <td>1</td>\n",
       "    </tr>\n",
       "    <tr>\n",
       "      <th>1</th>\n",
       "      <td>By 2030, eradicate extreme poverty for all peo...</td>\n",
       "      <td>1</td>\n",
       "    </tr>\n",
       "    <tr>\n",
       "      <th>2</th>\n",
       "      <td>By 2030, reduce at least by half the proportio...</td>\n",
       "      <td>1</td>\n",
       "    </tr>\n",
       "    <tr>\n",
       "      <th>3</th>\n",
       "      <td>Implement nationally appropriate social protec...</td>\n",
       "      <td>1</td>\n",
       "    </tr>\n",
       "    <tr>\n",
       "      <th>4</th>\n",
       "      <td>By 2030, ensure that all men and women, in par...</td>\n",
       "      <td>1</td>\n",
       "    </tr>\n",
       "    <tr>\n",
       "      <th>...</th>\n",
       "      <td>...</td>\n",
       "      <td>...</td>\n",
       "    </tr>\n",
       "    <tr>\n",
       "      <th>5163</th>\n",
       "      <td>Adopting responsible business practices and co...</td>\n",
       "      <td>17</td>\n",
       "    </tr>\n",
       "    <tr>\n",
       "      <th>5164</th>\n",
       "      <td>But tackling some of the toughest global chall...</td>\n",
       "      <td>17</td>\n",
       "    </tr>\n",
       "    <tr>\n",
       "      <th>5165</th>\n",
       "      <td>Working in partnership can often lead to great...</td>\n",
       "      <td>17</td>\n",
       "    </tr>\n",
       "    <tr>\n",
       "      <th>5166</th>\n",
       "      <td>With its reach and unique capabilities, busine...</td>\n",
       "      <td>17</td>\n",
       "    </tr>\n",
       "    <tr>\n",
       "      <th>5167</th>\n",
       "      <td>The business community can work alongside the ...</td>\n",
       "      <td>17</td>\n",
       "    </tr>\n",
       "  </tbody>\n",
       "</table>\n",
       "<p>5168 rows × 2 columns</p>\n",
       "</div>"
      ],
      "text/plain": [
       "                                               sentence class\n",
       "0             End poverty in all its forms everywhere.      1\n",
       "1     By 2030, eradicate extreme poverty for all peo...     1\n",
       "2     By 2030, reduce at least by half the proportio...     1\n",
       "3     Implement nationally appropriate social protec...     1\n",
       "4     By 2030, ensure that all men and women, in par...     1\n",
       "...                                                 ...   ...\n",
       "5163  Adopting responsible business practices and co...    17\n",
       "5164  But tackling some of the toughest global chall...    17\n",
       "5165  Working in partnership can often lead to great...    17\n",
       "5166  With its reach and unique capabilities, busine...    17\n",
       "5167  The business community can work alongside the ...    17\n",
       "\n",
       "[5168 rows x 2 columns]"
      ]
     },
     "execution_count": 53,
     "metadata": {},
     "output_type": "execute_result"
    }
   ],
   "source": [
    "df_train"
   ]
  },
  {
   "cell_type": "code",
   "execution_count": 54,
   "id": "solved-headset",
   "metadata": {},
   "outputs": [],
   "source": [
    "df_train.to_csv('~/Desktop/training_sdg.csv', index=False)"
   ]
  },
  {
   "cell_type": "markdown",
   "id": "coral-shore",
   "metadata": {},
   "source": [
    "### Import general text data from wikiedia file"
   ]
  },
  {
   "cell_type": "code",
   "execution_count": 59,
   "id": "occupied-textbook",
   "metadata": {},
   "outputs": [],
   "source": [
    "# load general wikipedia data\n",
    "df_wiki = pd.read_csv('/Users/martinthoma/Desktop/codebase_thesis/datasets/wikisent2.txt', delimiter='\\t', header=None)"
   ]
  },
  {
   "cell_type": "code",
   "execution_count": 60,
   "id": "willing-memorabilia",
   "metadata": {
    "scrolled": true
   },
   "outputs": [
    {
     "data": {
      "text/html": [
       "<div>\n",
       "<style scoped>\n",
       "    .dataframe tbody tr th:only-of-type {\n",
       "        vertical-align: middle;\n",
       "    }\n",
       "\n",
       "    .dataframe tbody tr th {\n",
       "        vertical-align: top;\n",
       "    }\n",
       "\n",
       "    .dataframe thead th {\n",
       "        text-align: right;\n",
       "    }\n",
       "</style>\n",
       "<table border=\"1\" class=\"dataframe\">\n",
       "  <thead>\n",
       "    <tr style=\"text-align: right;\">\n",
       "      <th></th>\n",
       "      <th>0</th>\n",
       "    </tr>\n",
       "  </thead>\n",
       "  <tbody>\n",
       "    <tr>\n",
       "      <th>0</th>\n",
       "      <td>0.000123, which corresponds to a distance of 7...</td>\n",
       "    </tr>\n",
       "    <tr>\n",
       "      <th>1</th>\n",
       "      <td>000webhost is a free web hosting service, oper...</td>\n",
       "    </tr>\n",
       "    <tr>\n",
       "      <th>2</th>\n",
       "      <td>0010x0010 is a Dutch-born audiovisual artist, ...</td>\n",
       "    </tr>\n",
       "    <tr>\n",
       "      <th>3</th>\n",
       "      <td>0-0-1-3 is an alcohol abuse prevention program...</td>\n",
       "    </tr>\n",
       "    <tr>\n",
       "      <th>4</th>\n",
       "      <td>0.01 is the debut studio album of H3llb3nt, re...</td>\n",
       "    </tr>\n",
       "  </tbody>\n",
       "</table>\n",
       "</div>"
      ],
      "text/plain": [
       "                                                   0\n",
       "0  0.000123, which corresponds to a distance of 7...\n",
       "1  000webhost is a free web hosting service, oper...\n",
       "2  0010x0010 is a Dutch-born audiovisual artist, ...\n",
       "3  0-0-1-3 is an alcohol abuse prevention program...\n",
       "4  0.01 is the debut studio album of H3llb3nt, re..."
      ]
     },
     "execution_count": 60,
     "metadata": {},
     "output_type": "execute_result"
    }
   ],
   "source": [
    "df_wiki.head()"
   ]
  },
  {
   "cell_type": "code",
   "execution_count": 62,
   "id": "blessed-semiconductor",
   "metadata": {},
   "outputs": [],
   "source": [
    "# shuffle data randomly before slicing\n",
    "df_wiki = df_wiki.sample(frac=1).reset_index(drop=True)"
   ]
  },
  {
   "cell_type": "code",
   "execution_count": 69,
   "id": "north-update",
   "metadata": {},
   "outputs": [
    {
     "ename": "ValueError",
     "evalue": "Length mismatch: Expected axis has 2 elements, new values have 1 elements",
     "output_type": "error",
     "traceback": [
      "\u001b[0;31m---------------------------------------------------------------------------\u001b[0m",
      "\u001b[0;31mValueError\u001b[0m                                Traceback (most recent call last)",
      "\u001b[0;32m<ipython-input-69-c502bb856f40>\u001b[0m in \u001b[0;36m<module>\u001b[0;34m\u001b[0m\n\u001b[1;32m      1\u001b[0m \u001b[0mdf_wiki\u001b[0m \u001b[0;34m=\u001b[0m \u001b[0mdf_wiki\u001b[0m\u001b[0;34m.\u001b[0m\u001b[0miloc\u001b[0m\u001b[0;34m[\u001b[0m\u001b[0;34m:\u001b[0m\u001b[0;36m600\u001b[0m\u001b[0;34m,\u001b[0m \u001b[0;34m:\u001b[0m\u001b[0;34m]\u001b[0m\u001b[0;34m\u001b[0m\u001b[0;34m\u001b[0m\u001b[0m\n\u001b[0;32m----> 2\u001b[0;31m \u001b[0mdf_wiki\u001b[0m\u001b[0;34m.\u001b[0m\u001b[0mcolumns\u001b[0m \u001b[0;34m=\u001b[0m \u001b[0;34m[\u001b[0m\u001b[0;34m'sentence'\u001b[0m\u001b[0;34m]\u001b[0m\u001b[0;34m\u001b[0m\u001b[0;34m\u001b[0m\u001b[0m\n\u001b[0m\u001b[1;32m      3\u001b[0m \u001b[0;31m#df_wiki['label'] = 0\u001b[0m\u001b[0;34m\u001b[0m\u001b[0;34m\u001b[0m\u001b[0;34m\u001b[0m\u001b[0m\n",
      "\u001b[0;32m~/miniconda3/envs/master_thesis/lib/python3.9/site-packages/pandas/core/generic.py\u001b[0m in \u001b[0;36m__setattr__\u001b[0;34m(self, name, value)\u001b[0m\n\u001b[1;32m   5152\u001b[0m         \u001b[0;32mtry\u001b[0m\u001b[0;34m:\u001b[0m\u001b[0;34m\u001b[0m\u001b[0;34m\u001b[0m\u001b[0m\n\u001b[1;32m   5153\u001b[0m             \u001b[0mobject\u001b[0m\u001b[0;34m.\u001b[0m\u001b[0m__getattribute__\u001b[0m\u001b[0;34m(\u001b[0m\u001b[0mself\u001b[0m\u001b[0;34m,\u001b[0m \u001b[0mname\u001b[0m\u001b[0;34m)\u001b[0m\u001b[0;34m\u001b[0m\u001b[0;34m\u001b[0m\u001b[0m\n\u001b[0;32m-> 5154\u001b[0;31m             \u001b[0;32mreturn\u001b[0m \u001b[0mobject\u001b[0m\u001b[0;34m.\u001b[0m\u001b[0m__setattr__\u001b[0m\u001b[0;34m(\u001b[0m\u001b[0mself\u001b[0m\u001b[0;34m,\u001b[0m \u001b[0mname\u001b[0m\u001b[0;34m,\u001b[0m \u001b[0mvalue\u001b[0m\u001b[0;34m)\u001b[0m\u001b[0;34m\u001b[0m\u001b[0;34m\u001b[0m\u001b[0m\n\u001b[0m\u001b[1;32m   5155\u001b[0m         \u001b[0;32mexcept\u001b[0m \u001b[0mAttributeError\u001b[0m\u001b[0;34m:\u001b[0m\u001b[0;34m\u001b[0m\u001b[0;34m\u001b[0m\u001b[0m\n\u001b[1;32m   5156\u001b[0m             \u001b[0;32mpass\u001b[0m\u001b[0;34m\u001b[0m\u001b[0;34m\u001b[0m\u001b[0m\n",
      "\u001b[0;32mpandas/_libs/properties.pyx\u001b[0m in \u001b[0;36mpandas._libs.properties.AxisProperty.__set__\u001b[0;34m()\u001b[0m\n",
      "\u001b[0;32m~/miniconda3/envs/master_thesis/lib/python3.9/site-packages/pandas/core/generic.py\u001b[0m in \u001b[0;36m_set_axis\u001b[0;34m(self, axis, labels)\u001b[0m\n\u001b[1;32m    562\u001b[0m     \u001b[0;32mdef\u001b[0m \u001b[0m_set_axis\u001b[0m\u001b[0;34m(\u001b[0m\u001b[0mself\u001b[0m\u001b[0;34m,\u001b[0m \u001b[0maxis\u001b[0m\u001b[0;34m:\u001b[0m \u001b[0mint\u001b[0m\u001b[0;34m,\u001b[0m \u001b[0mlabels\u001b[0m\u001b[0;34m:\u001b[0m \u001b[0mIndex\u001b[0m\u001b[0;34m)\u001b[0m \u001b[0;34m->\u001b[0m \u001b[0;32mNone\u001b[0m\u001b[0;34m:\u001b[0m\u001b[0;34m\u001b[0m\u001b[0;34m\u001b[0m\u001b[0m\n\u001b[1;32m    563\u001b[0m         \u001b[0mlabels\u001b[0m \u001b[0;34m=\u001b[0m \u001b[0mensure_index\u001b[0m\u001b[0;34m(\u001b[0m\u001b[0mlabels\u001b[0m\u001b[0;34m)\u001b[0m\u001b[0;34m\u001b[0m\u001b[0;34m\u001b[0m\u001b[0m\n\u001b[0;32m--> 564\u001b[0;31m         \u001b[0mself\u001b[0m\u001b[0;34m.\u001b[0m\u001b[0m_mgr\u001b[0m\u001b[0;34m.\u001b[0m\u001b[0mset_axis\u001b[0m\u001b[0;34m(\u001b[0m\u001b[0maxis\u001b[0m\u001b[0;34m,\u001b[0m \u001b[0mlabels\u001b[0m\u001b[0;34m)\u001b[0m\u001b[0;34m\u001b[0m\u001b[0;34m\u001b[0m\u001b[0m\n\u001b[0m\u001b[1;32m    565\u001b[0m         \u001b[0mself\u001b[0m\u001b[0;34m.\u001b[0m\u001b[0m_clear_item_cache\u001b[0m\u001b[0;34m(\u001b[0m\u001b[0;34m)\u001b[0m\u001b[0;34m\u001b[0m\u001b[0;34m\u001b[0m\u001b[0m\n\u001b[1;32m    566\u001b[0m \u001b[0;34m\u001b[0m\u001b[0m\n",
      "\u001b[0;32m~/miniconda3/envs/master_thesis/lib/python3.9/site-packages/pandas/core/internals/managers.py\u001b[0m in \u001b[0;36mset_axis\u001b[0;34m(self, axis, new_labels)\u001b[0m\n\u001b[1;32m    224\u001b[0m \u001b[0;34m\u001b[0m\u001b[0m\n\u001b[1;32m    225\u001b[0m         \u001b[0;32mif\u001b[0m \u001b[0mnew_len\u001b[0m \u001b[0;34m!=\u001b[0m \u001b[0mold_len\u001b[0m\u001b[0;34m:\u001b[0m\u001b[0;34m\u001b[0m\u001b[0;34m\u001b[0m\u001b[0m\n\u001b[0;32m--> 226\u001b[0;31m             raise ValueError(\n\u001b[0m\u001b[1;32m    227\u001b[0m                 \u001b[0;34mf\"Length mismatch: Expected axis has {old_len} elements, new \"\u001b[0m\u001b[0;34m\u001b[0m\u001b[0;34m\u001b[0m\u001b[0m\n\u001b[1;32m    228\u001b[0m                 \u001b[0;34mf\"values have {new_len} elements\"\u001b[0m\u001b[0;34m\u001b[0m\u001b[0;34m\u001b[0m\u001b[0m\n",
      "\u001b[0;31mValueError\u001b[0m: Length mismatch: Expected axis has 2 elements, new values have 1 elements"
     ]
    }
   ],
   "source": [
    "df_wiki = df_wiki.iloc[:600, :]\n",
    "df_wiki.columns = ['sentence']"
   ]
  },
  {
   "cell_type": "code",
   "execution_count": 70,
   "id": "presidential-thinking",
   "metadata": {},
   "outputs": [],
   "source": [
    "df_wiki['label'] = 0"
   ]
  },
  {
   "cell_type": "code",
   "execution_count": 71,
   "id": "alike-percentage",
   "metadata": {},
   "outputs": [
    {
     "data": {
      "text/html": [
       "<div>\n",
       "<style scoped>\n",
       "    .dataframe tbody tr th:only-of-type {\n",
       "        vertical-align: middle;\n",
       "    }\n",
       "\n",
       "    .dataframe tbody tr th {\n",
       "        vertical-align: top;\n",
       "    }\n",
       "\n",
       "    .dataframe thead th {\n",
       "        text-align: right;\n",
       "    }\n",
       "</style>\n",
       "<table border=\"1\" class=\"dataframe\">\n",
       "  <thead>\n",
       "    <tr style=\"text-align: right;\">\n",
       "      <th></th>\n",
       "      <th>sentence</th>\n",
       "      <th>label</th>\n",
       "    </tr>\n",
       "  </thead>\n",
       "  <tbody>\n",
       "    <tr>\n",
       "      <th>0</th>\n",
       "      <td>It is broadcast from Jhelum, Islamabad, Sargod...</td>\n",
       "      <td>0</td>\n",
       "    </tr>\n",
       "    <tr>\n",
       "      <th>1</th>\n",
       "      <td>It was written by Hanif Kureishi from his shor...</td>\n",
       "      <td>0</td>\n",
       "    </tr>\n",
       "    <tr>\n",
       "      <th>2</th>\n",
       "      <td>Kohn retired from competition after the 2010 W...</td>\n",
       "      <td>0</td>\n",
       "    </tr>\n",
       "    <tr>\n",
       "      <th>3</th>\n",
       "      <td>It spent 30 weeks on the AIR Indie Charts and ...</td>\n",
       "      <td>0</td>\n",
       "    </tr>\n",
       "    <tr>\n",
       "      <th>4</th>\n",
       "      <td>For a time he was also the manager of Pacific ...</td>\n",
       "      <td>0</td>\n",
       "    </tr>\n",
       "  </tbody>\n",
       "</table>\n",
       "</div>"
      ],
      "text/plain": [
       "                                            sentence  label\n",
       "0  It is broadcast from Jhelum, Islamabad, Sargod...      0\n",
       "1  It was written by Hanif Kureishi from his shor...      0\n",
       "2  Kohn retired from competition after the 2010 W...      0\n",
       "3  It spent 30 weeks on the AIR Indie Charts and ...      0\n",
       "4  For a time he was also the manager of Pacific ...      0"
      ]
     },
     "execution_count": 71,
     "metadata": {},
     "output_type": "execute_result"
    }
   ],
   "source": [
    "df_wiki.head()"
   ]
  },
  {
   "cell_type": "code",
   "execution_count": 72,
   "id": "forbidden-enzyme",
   "metadata": {},
   "outputs": [],
   "source": [
    "df_wiki.to_csv('./datasets/general_text.csv', index=False)"
   ]
  },
  {
   "cell_type": "markdown",
   "id": "offshore-consequence",
   "metadata": {},
   "source": [
    "### Concatenate general and SDG data to training set"
   ]
  },
  {
   "cell_type": "code",
   "execution_count": 78,
   "id": "tutorial-corpus",
   "metadata": {},
   "outputs": [],
   "source": [
    "# load clean versions of the datasets \n",
    "# and concatenate them\n",
    "df_general = pd.read_csv('./datasets/general_text.csv')\n",
    "df_sdg = pd.read_csv('./datasets/training_sdg.csv')\n",
    "\n",
    "df_general.columns = df_sdg.columns = ['sentence', 'labels']\n",
    "df_train = pd.concat([df_general, df_sdg])"
   ]
  },
  {
   "cell_type": "code",
   "execution_count": 81,
   "id": "furnished-circular",
   "metadata": {},
   "outputs": [
    {
     "name": "stdout",
     "output_type": "stream",
     "text": [
      "Concat Successfully: True\n"
     ]
    }
   ],
   "source": [
    "# Check success of concatenation\n",
    "print('Concat Successfully: ' + str(df_general.shape[0] + df_sdg.shape[0] == df_train.shape[0]))"
   ]
  },
  {
   "cell_type": "code",
   "execution_count": 82,
   "id": "furnished-furniture",
   "metadata": {},
   "outputs": [],
   "source": [
    "# shuffle and save data to disk \n",
    "df_train = df_train.sample(frac=1).reset_index(drop=True)\n",
    "df_train.to_csv('./datasets/training_set', index=False)"
   ]
  },
  {
   "cell_type": "code",
   "execution_count": 67,
   "id": "handmade-hungarian",
   "metadata": {},
   "outputs": [],
   "source": [
    "# RoBERTa model requires single column one-hot-encoded labels \n",
    "# this function returns this format from the usual numeric class label\n",
    "def one_hot_encode(class_number):\n",
    "    \"\"\"\n",
    "    Gets an integer as argument representing the target class label. \n",
    "    As RoBERTa needs the targets in tuple one_hot_encoded format, \n",
    "    a tuple is returned which has a 1 at the position of the target class. \n",
    "    E.g. 2 -> (0,0,1,0,0,...)\n",
    "    \"\"\"\n",
    "    t = [0 for i in range(num_classes)]\n",
    "    t[class_number] = 1\n",
    "    return tuple(t)"
   ]
  },
  {
   "cell_type": "code",
   "execution_count": 68,
   "id": "about-overall",
   "metadata": {},
   "outputs": [],
   "source": [
    "# apply one hot encoding.\n",
    "df['on_hot_class'] = df['class'].apply(lambda x: one_hot_encode(x))"
   ]
  },
  {
   "cell_type": "code",
   "execution_count": null,
   "id": "dominican-samoa",
   "metadata": {},
   "outputs": [],
   "source": []
  }
 ],
 "metadata": {
  "kernelspec": {
   "display_name": "Python 3",
   "language": "python",
   "name": "python3"
  },
  "language_info": {
   "codemirror_mode": {
    "name": "ipython",
    "version": 3
   },
   "file_extension": ".py",
   "mimetype": "text/x-python",
   "name": "python",
   "nbconvert_exporter": "python",
   "pygments_lexer": "ipython3",
   "version": "3.9.1"
  }
 },
 "nbformat": 4,
 "nbformat_minor": 5
}
