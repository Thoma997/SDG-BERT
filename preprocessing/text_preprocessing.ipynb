{
 "cells": [
  {
   "cell_type": "markdown",
   "metadata": {},
   "source": [
    "### Text Preprocessing"
   ]
  },
  {
   "cell_type": "markdown",
   "metadata": {},
   "source": [
    "Import relevant packages"
   ]
  },
  {
   "cell_type": "code",
   "execution_count": 1,
   "metadata": {},
   "outputs": [
    {
     "name": "stderr",
     "output_type": "stream",
     "text": [
      "[nltk_data] Downloading package punkt to\n",
      "[nltk_data]     /Users/martinthoma/nltk_data...\n",
      "[nltk_data]   Package punkt is already up-to-date!\n",
      "[nltk_data] Downloading package stopwords to\n",
      "[nltk_data]     /Users/martinthoma/nltk_data...\n",
      "[nltk_data]   Package stopwords is already up-to-date!\n",
      "[nltk_data] Downloading package wordnet to\n",
      "[nltk_data]     /Users/martinthoma/nltk_data...\n",
      "[nltk_data]   Package wordnet is already up-to-date!\n"
     ]
    },
    {
     "data": {
      "text/plain": [
       "True"
      ]
     },
     "execution_count": 1,
     "metadata": {},
     "output_type": "execute_result"
    }
   ],
   "source": [
    "import pandas as pd\n",
    "import re\n",
    "import os\n",
    "import nltk\n",
    "from nltk import word_tokenize \n",
    "from nltk.corpus import stopwords\n",
    "from nltk.stem import WordNetLemmatizer \n",
    "nltk.download(\"punkt\")\n",
    "nltk.download(\"stopwords\")\n",
    "nltk.download('wordnet')\n"
   ]
  },
  {
   "cell_type": "code",
   "execution_count": 2,
   "metadata": {},
   "outputs": [],
   "source": [
    "df = pd.read_csv(\"test_text_data.csv\", sep=\";\")"
   ]
  },
  {
   "cell_type": "markdown",
   "metadata": {},
   "source": [
    "##### Achtung headers \n",
    "Die headers werden sich ändern wenn die daten von der Datenbank eingezogen werden.\n"
   ]
  },
  {
   "cell_type": "code",
   "execution_count": 6,
   "metadata": {
    "scrolled": true
   },
   "outputs": [
    {
     "name": "stdout",
     "output_type": "stream",
     "text": [
      "Purpose and overall relevance to the organization\r",
      "Assists in the implementation of our store processes (warehouse and area) and carries out the assigned activities conscientiously. Assists in ensuring that the range of goods is available to the customer by helping when goods have been delivered and the sales area needs to be replenished.\r",
      "\r",
      "Responsibilities\r",
      "Preparation of goods (unpacking, securing, labeling, ironing out)\r",
      "Placement / filling of goods on the sales area\r",
      "Maintain an engaging, comfortable environment in which customers enjoy shopping\r",
      "Actively learns basic knowledge and facts about seasonal products in his / her store area and incorporates these into the service approach\r",
      "Follow the rules and procedures (House of Retail regulations) that apply to the store\r",
      "If applicable: Support with our omnichannel tools: Ship from Store, Endless Aisle, Click and Collect\r",
      "Works productively and respectfully with team members\r",
      "Required training and experience / minimum requirement\r",
      "Good to very good knowledge of German\r",
      "Resilience, flexibility, teamwork\r",
      "Basic spelling and arithmetic skills, communication skills \n",
      "\n",
      "- - -\n",
      "\n",
      "\n",
      "Company Description\r",
      "\r",
      "Are you ready for a fast-paced and action-packed career where the customer is at the heart of the leading company in the ready-to-wear market?\r",
      "Find your place in a dynamic environment and offer our customers an unforgettable shopping experience, with the best of services in a fashion world. We offer a position where every day is an adventure, where you alone define your limits of career possibilities and where your personal development is just as important as that of our company.\r",
      "\r",
      "Job Description\r",
      "\r",
      "The salesperson position is one of the most important at HandM and it's also a great way to start your career with us.\r",
      "Are you up to the challenge?\r",
      "The HandM salesperson position includes a lot of fun and many responsibilities: Provide excellent customer service to maximize sales on the sales floor, fitting rooms and checkout Work actively on keeping the shelves well - restocking, storage, folding, bending and visualization Master checkout procedures and carry out all required transactions Receive delivery to the truck and condition the merchandise Post price changes during sales or promotions, label and install anti-theft devices on the truck merchandise. Follow all sales procedures, rules and guidelines to assist in loss prevention and store security. Know how to work as a team, actively support and assist your colleagues.\r",
      "\r",
      "Qualifications\r",
      "Like everyone at HandM, we believe you are an open-minded, communicative, ambitious and business-minded employee. It is also important for each of our employees: to be welcoming, friendly and helpful to customers and your colleagues; to be able to recognize and maximize sales opportunities; to communicate with your team and managers in a simple way and clear by remaining open to feedback. to be versatile and adapt to the intense pace of the store. to have the desire to learn and improve.\r",
      "Further information\r",
      "\r",
      "Do you want to get started too?\r",
      "This is the opportunity for you to start an extraordinary career in a brand that guarantees equal opportunities in its corporate culture.\r",
      "Don't hesitate any longer, and apply!\r",
      "Encouraging diversity in all its forms, HandM is committed to an approach in favor of the employment of people with disabilities. \n",
      "\n",
      "- - -\n",
      "\n",
      "\n",
      "nan \n",
      "\n",
      "- - -\n",
      "\n",
      "\n"
     ]
    },
    {
     "data": {
      "text/plain": [
       "0    None\n",
       "1    None\n",
       "2    None\n",
       "Name: Description, dtype: object"
      ]
     },
     "execution_count": 6,
     "metadata": {},
     "output_type": "execute_result"
    }
   ],
   "source": [
    "df[\"Description\"].apply(lambda x: print(\"{} \\n\\n- - -\\n\\n\".format(x)))"
   ]
  },
  {
   "cell_type": "markdown",
   "metadata": {},
   "source": [
    "Preprocessing steps\n",
    "\n",
    "- Tokenize\n",
    "- Standardize\n",
    "- Stop word removal\n",
    "- Lemmatize"
   ]
  },
  {
   "cell_type": "markdown",
   "metadata": {},
   "source": [
    "hast du die funktionen selbst geschrieben oder die best practices irgedwo hergezogen? fals gezogen kann das gerne erwähnt werden wo. \n"
   ]
  },
  {
   "cell_type": "code",
   "execution_count": 7,
   "metadata": {},
   "outputs": [],
   "source": [
    "def standardize(word_list):\n",
    "    # maybe add 0-9 depending if we want to keep numbers\n",
    "    return [(re.sub('[^a-z-]','', word.lower())) for word in word_list\\\n",
    "            if (re.sub('[^a-z-]','', word.lower())) != \"\"\n",
    "            and (re.sub('[^a-z-]','', word.lower())) != \"-\"] \n",
    "\n",
    "def stop_word_removal(word_list):  \n",
    "    stop_words = set(stopwords.words('english')) \n",
    "    return [word for word in word_list if word not in stop_words]\n",
    "\n",
    "def word_lemmatization(word_list):\n",
    "    lemmatizer = WordNetLemmatizer()\n",
    "    return [lemmatizer.lemmatize(word) for word in word_list]"
   ]
  },
  {
   "cell_type": "code",
   "execution_count": 8,
   "metadata": {},
   "outputs": [],
   "source": [
    "def text_preprocessing(df, text_col, *preprocessing_steps):\n",
    "    final_list = []\n",
    "    for row in df[text_col]:\n",
    "        try:\n",
    "            full_text = row.split(\"\\r\")\n",
    "            paragraph_list = []\n",
    "            for paragraphs in full_text:\n",
    "                paragraph = nltk.word_tokenize(paragraphs)\n",
    "                for step in preprocessing_steps:\n",
    "                    paragraph = step(paragraph)\n",
    "                paragraph_list.append(\" \".join(paragraph))\n",
    "            final_list.append(\"\\r\".join(paragraph_list))\n",
    "        except AttributeError:\n",
    "            final_list.append(\"\")\n",
    "    return final_list"
   ]
  },
  {
   "cell_type": "code",
   "execution_count": 9,
   "metadata": {},
   "outputs": [],
   "source": [
    "df[\"Description_Preprocessed\"] = text_preprocessing(df, \"Description\", standardize, stop_word_removal, word_lemmatization)"
   ]
  },
  {
   "cell_type": "code",
   "execution_count": 13,
   "metadata": {},
   "outputs": [
    {
     "name": "stdout",
     "output_type": "stream",
     "text": [
      "Purpose and overall relevance to the organization\r",
      "Assists in the implementation of our store processes (warehouse and area) and carries out the assigned activities conscientiously. Assists in ensuring that the range of goods is available to the customer by helping when goods have been delivered and the sales area needs to be replenished.\r",
      "\r",
      "Responsibilities\r",
      "Preparation of goods (unpacking, securing, labeling, ironing out)\r",
      "Placement / filling of goods on the sales area\r",
      "Maintain an engaging, comfortable environment in which customers enjoy shopping\r",
      "Actively learns basic knowledge and facts about seasonal products in his / her store area and incorporates these into the service approach\r",
      "Follow the rules and procedures (House of Retail regulations) that apply to the store\r",
      "If applicable: Support with our omnichannel tools: Ship from Store, Endless Aisle, Click and Collect\r",
      "Works productively and respectfully with team members\r",
      "Required training and experience / minimum requirement\r",
      "Good to very good knowledge of German\r",
      "Resilience, flexibility, teamwork\r",
      "Basic spelling and arithmetic skills, communication skills \n",
      "\n",
      " purpose overall relevance organization\r",
      "assist implementation store process warehouse area carry assigned activity conscientiously assist ensuring range good available customer helping good delivered sale area need replenished\r",
      "\r",
      "responsibility\r",
      "preparation good unpacking securing labeling ironing\r",
      "placement filling good sale area\r",
      "maintain engaging comfortable environment customer enjoy shopping\r",
      "actively learns basic knowledge fact seasonal product store area incorporates service approach\r",
      "follow rule procedure house retail regulation apply store\r",
      "applicable support omnichannel tool ship store endless aisle click collect\r",
      "work productively respectfully team member\r",
      "required training experience minimum requirement\r",
      "good good knowledge german\r",
      "resilience flexibility teamwork\r",
      "basic spelling arithmetic skill communication skill \n",
      "\n",
      "- - -\n",
      "\n",
      "\n",
      "Company Description\r",
      "\r",
      "Are you ready for a fast-paced and action-packed career where the customer is at the heart of the leading company in the ready-to-wear market?\r",
      "Find your place in a dynamic environment and offer our customers an unforgettable shopping experience, with the best of services in a fashion world. We offer a position where every day is an adventure, where you alone define your limits of career possibilities and where your personal development is just as important as that of our company.\r",
      "\r",
      "Job Description\r",
      "\r",
      "The salesperson position is one of the most important at HandM and it's also a great way to start your career with us.\r",
      "Are you up to the challenge?\r",
      "The HandM salesperson position includes a lot of fun and many responsibilities: Provide excellent customer service to maximize sales on the sales floor, fitting rooms and checkout Work actively on keeping the shelves well - restocking, storage, folding, bending and visualization Master checkout procedures and carry out all required transactions Receive delivery to the truck and condition the merchandise Post price changes during sales or promotions, label and install anti-theft devices on the truck merchandise. Follow all sales procedures, rules and guidelines to assist in loss prevention and store security. Know how to work as a team, actively support and assist your colleagues.\r",
      "\r",
      "Qualifications\r",
      "Like everyone at HandM, we believe you are an open-minded, communicative, ambitious and business-minded employee. It is also important for each of our employees: to be welcoming, friendly and helpful to customers and your colleagues; to be able to recognize and maximize sales opportunities; to communicate with your team and managers in a simple way and clear by remaining open to feedback. to be versatile and adapt to the intense pace of the store. to have the desire to learn and improve.\r",
      "Further information\r",
      "\r",
      "Do you want to get started too?\r",
      "This is the opportunity for you to start an extraordinary career in a brand that guarantees equal opportunities in its corporate culture.\r",
      "Don't hesitate any longer, and apply!\r",
      "Encouraging diversity in all its forms, HandM is committed to an approach in favor of the employment of people with disabilities. \n",
      "\n",
      " company description\r",
      "\r",
      "ready fast-paced action-packed career customer heart leading company ready-to-wear market\r",
      "find place dynamic environment offer customer unforgettable shopping experience best service fashion world offer position every day adventure alone define limit career possibility personal development important company\r",
      "\r",
      "job description\r",
      "\r",
      "salesperson position one important handm also great way start career u\r",
      "challenge\r",
      "handm salesperson position includes lot fun many responsibility provide excellent customer service maximize sale sale floor fitting room checkout work actively keeping shelf well restocking storage folding bending visualization master checkout procedure carry required transaction receive delivery truck condition merchandise post price change sale promotion label install anti-theft device truck merchandise follow sale procedure rule guideline assist loss prevention store security know work team actively support assist colleague\r",
      "\r",
      "qualification\r",
      "like everyone handm believe open-minded communicative ambitious business-minded employee also important employee welcoming friendly helpful customer colleague able recognize maximize sale opportunity communicate team manager simple way clear remaining open feedback versatile adapt intense pace store desire learn improve\r",
      "information\r",
      "\r",
      "want get started\r",
      "opportunity start extraordinary career brand guarantee equal opportunity corporate culture\r",
      "nt hesitate longer apply\r",
      "encouraging diversity form handm committed approach favor employment people disability \n",
      "\n",
      "- - -\n",
      "\n",
      "\n",
      "nan \n",
      "\n",
      "  \n",
      "\n",
      "- - -\n",
      "\n",
      "\n"
     ]
    },
    {
     "data": {
      "text/plain": [
       "0    None\n",
       "1    None\n",
       "2    None\n",
       "dtype: object"
      ]
     },
     "execution_count": 13,
     "metadata": {},
     "output_type": "execute_result"
    }
   ],
   "source": [
    "df[[\"Description\", \"Description_Preprocessed\"]].apply(lambda x: print(\"{} \\n\\n {} \\n\\n- - -\\n\\n\".format(x[0], x[1])), axis=1)"
   ]
  },
  {
   "cell_type": "code",
   "execution_count": null,
   "metadata": {},
   "outputs": [],
   "source": []
  }
 ],
 "metadata": {
  "kernelspec": {
   "display_name": "Python 3",
   "language": "python",
   "name": "python3"
  },
  "language_info": {
   "codemirror_mode": {
    "name": "ipython",
    "version": 3
   },
   "file_extension": ".py",
   "mimetype": "text/x-python",
   "name": "python",
   "nbconvert_exporter": "python",
   "pygments_lexer": "ipython3",
   "version": "3.6.8"
  }
 },
 "nbformat": 4,
 "nbformat_minor": 4
}
