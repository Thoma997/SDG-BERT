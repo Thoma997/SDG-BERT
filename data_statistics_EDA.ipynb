{
 "cells": [
  {
   "cell_type": "code",
   "execution_count": 29,
   "id": "sweet-samoa",
   "metadata": {},
   "outputs": [
    {
     "name": "stderr",
     "output_type": "stream",
     "text": [
      "[nltk_data] Downloading package stopwords to\n",
      "[nltk_data]     /Users/martinthoma/nltk_data...\n",
      "[nltk_data]   Package stopwords is already up-to-date!\n",
      "[nltk_data] Downloading package punkt to\n",
      "[nltk_data]     /Users/martinthoma/nltk_data...\n",
      "[nltk_data]   Package punkt is already up-to-date!\n"
     ]
    }
   ],
   "source": [
    "import pandas as pd\n",
    "from nltk.corpus import stopwords \n",
    "from nltk.tokenize import word_tokenize\n",
    "import nltk\n",
    "nltk.download('stopwords')\n",
    "nltk.download('punkt')\n",
    "stop_words = set(stopwords.words('english')) \n",
    "from collections import Counter\n",
    "import seaborn as sns\n",
    "import numpy as np\n",
    "import re\n",
    "\n",
    "from datasets import list_datasets, load_dataset"
   ]
  },
  {
   "cell_type": "code",
   "execution_count": 21,
   "id": "inside-brush",
   "metadata": {
    "scrolled": true
   },
   "outputs": [
    {
     "name": "stderr",
     "output_type": "stream",
     "text": [
      "Reusing dataset bookcorpus (C:\\Users\\math.digi\\.cache\\huggingface\\datasets\\bookcorpus\\plain_text\\1.0.0\\af844be26c089fb64810e9f2cd841954fd8bd596d6ddd26326e4c70e2b8c96fc)\n",
      "Using custom data configuration default\n",
      "Reusing dataset ag_news (C:\\Users\\math.digi\\.cache\\huggingface\\datasets\\ag_news\\default\\0.0.0\\fb5c5e74a110037311ef5e904583ce9f8b9fbc1354290f97b4929f01b3f48b1a)\n",
      "Loading cached shuffled indices for dataset at C:\\Users\\math.digi\\.cache\\huggingface\\datasets\\bookcorpus\\plain_text\\1.0.0\\af844be26c089fb64810e9f2cd841954fd8bd596d6ddd26326e4c70e2b8c96fc\\cache-a676355080ae5835.arrow\n"
     ]
    }
   ],
   "source": [
    "\n",
    "books_data_shuffled = books_data_raw.shuffle()\n",
    "news_data_shuffled = news_data_raw.shuffle()\n"
   ]
  },
  {
   "cell_type": "code",
   "execution_count": 17,
   "id": "earned-legend",
   "metadata": {},
   "outputs": [],
   "source": [
    "# load different corpora in dataframes\n",
    "df_train = pd.read_csv('./datasets/training_set', delimiter=',')\n",
    "df_sdg = df_train[df_train.loc[:, 'labels'] != 0]\n",
    "df_monster = pd.read_csv('./datasets/monster_com-job_sample.csv')\n",
    "df_indeed = pd.read_csv('./datasets/indeed_job_data_raw.csv')\n",
    "df_wiki = pd.read_csv('./datasets/wikisent2.txt',delimiter='\\t')\n",
    "books_data_raw = load_dataset('bookcorpus')\n",
    "news_data_raw = load_dataset('ag_news')\n",
    "# can not use open web data because it does not fit on disk\n",
    "#open_data = load_dataset(path='openwebtext', split='train[:1%]')"
   ]
  },
  {
   "cell_type": "code",
   "execution_count": 44,
   "id": "negative-reconstruction",
   "metadata": {},
   "outputs": [],
   "source": [
    "# curate approx of Roberta pretraining corpus\n",
    "\n",
    "# shuffle data\n",
    "books_data_shuffled = books_data_raw.shuffle()\n",
    "news_data_shuffled = news_data_raw.shuffle()\n",
    "df_wiki_shuffled = df_wiki.sample(frac=1).reset_index(drop=True)\n",
    "\n",
    "# draw 150K samples per corpus \n",
    "books_sample = books_data_shuffled['train'][:150000]['text']\n",
    "news_sample = news_data_shuffled['train'][:150000]['text']\n",
    "wiki_sample = list(df_wiki_shuffled.iloc[:150000, 0].values)\n",
    "\n",
    "# concat subcorpora \n",
    "roberta_pretrain = books_sample + news_sample + wiki_sample"
   ]
  },
  {
   "cell_type": "code",
   "execution_count": 50,
   "id": "swiss-crossing",
   "metadata": {},
   "outputs": [],
   "source": [
    "def get_words(sentences):\n",
    "    \"\"\"\n",
    "    Concatenate sentences made out of word tokens.\n",
    "    return single list of words\n",
    "    \"\"\"\n",
    "    words = []\n",
    "    for sentence in sentences:\n",
    "        words += sentence\n",
    "    return words"
   ]
  },
  {
   "cell_type": "code",
   "execution_count": 53,
   "id": "specific-cycling",
   "metadata": {},
   "outputs": [],
   "source": [
    "# create word lists from datasets\n",
    "roberta_words = get_words([word_tokenize(sentence) for sentence in roberta_pretrain])\n",
    "sdg_words = get_words([word_tokenize(sentence) for sentence in list(df_sdg['sentence'].values)])\n",
    "indeed_words = get_words([word_tokenize(sentence) for sentence in list(df_indeed['text_en'].values)])\n",
    "monster_words = get_words([word_tokenize(sentence) for sentence in list(df_monster['job_description'].values)])"
   ]
  },
  {
   "cell_type": "code",
   "execution_count": 55,
   "id": "technical-synthetic",
   "metadata": {},
   "outputs": [],
   "source": [
    "# clean word lists from stopwords\n",
    "roberta_filtered = [w for w in roberta_words if not w in stop_words] \n",
    "sdg_filtered = [w for w in sdg_words if not w in stop_words] \n",
    "indeed_filtered = [w for w in indeed_words if not w in stop_words] \n",
    "monster_filtered = [w for w in monster_words if not w in stop_words] "
   ]
  },
  {
   "cell_type": "code",
   "execution_count": 56,
   "id": "genetic-abortion",
   "metadata": {},
   "outputs": [],
   "source": [
    "# init counter object with word list\n",
    "RobertaCounter = Counter(roberta_filtered)\n",
    "SDGCounter = Counter(sdg_filtered)\n",
    "IndeedCounter = Counter(indeed_filtered)\n",
    "MonsterCounter = Counter(monster_filtered)"
   ]
  },
  {
   "cell_type": "code",
   "execution_count": 57,
   "id": "stuffed-joyce",
   "metadata": {},
   "outputs": [],
   "source": [
    "# draw the 10,000 most common words for each corpus\n",
    "nb_most = 10000\n",
    "roberta_most_nb = RobertaCounter.most_common(nb_most)\n",
    "sdg_most_nb = SDGCounter.most_common(nb_most)\n",
    "indeed_most_nb = IndeedCounter.most_common(nb_most)\n",
    "monster_most_nb = MonsterCounter.most_common(nb_most)"
   ]
  },
  {
   "cell_type": "code",
   "execution_count": 58,
   "id": "external-prediction",
   "metadata": {},
   "outputs": [],
   "source": [
    "# remove counts ang get list of most frequent words only\n",
    "roberta_most = [w[0] for w in roberta_most_nb]\n",
    "sdg_most = [w[0] for w in sdg_most_nb]\n",
    "indeed_most = [w[0] for w in indeed_most_nb]\n",
    "monster_most = [w[0] for w in monster_most_nb]"
   ]
  },
  {
   "cell_type": "code",
   "execution_count": 59,
   "id": "naval-correspondence",
   "metadata": {},
   "outputs": [],
   "source": [
    "# calculate percentage intersections between corpora\n",
    "roberta_sdg = len(list(set(roberta_most) & set(sdg_most))) / nb_most\n",
    "roberta_monster = len(list(set(roberta_most) & set(monster_most))) / nb_most\n",
    "roberta_indeed = len(list(set(roberta_most) & set(indeed_most))) / nb_most\n",
    "sdg_monster = len(list(set(sdg_most) & set(monster_most))) / nb_most\n",
    "sdg_indeed = len(list(set(sdg_most) & set(indeed_most))) / nb_most\n",
    "monster_indeed = len(list(set(monster_most) & set(indeed_most))) / nb_most"
   ]
  },
  {
   "cell_type": "code",
   "execution_count": 60,
   "id": "supreme-ultimate",
   "metadata": {},
   "outputs": [],
   "source": [
    "# manually curate overlap matrix and annotation for corpora similarity\n",
    "cm = np.array([[1, roberta_sdg, roberta_monster, roberta_indeed],\n",
    "               [roberta_sdg, 1, sdg_monster, sdg_indeed],\n",
    "               [roberta_indeed, sdg_indeed, 1, monster_indeed],\n",
    "               [roberta_monster, sdg_monster, monster_indeed, 1]])\n",
    "\n",
    "annot = ['{0:.2f}%'.format(float(a)*100) for a in np.array(cm).flatten()]\n",
    "annot = np.asarray(annot).reshape(cm.shape[0],cm.shape[1])"
   ]
  },
  {
   "cell_type": "code",
   "execution_count": 72,
   "id": "packed-scientist",
   "metadata": {},
   "outputs": [
    {
     "data": {
      "image/png": "[encoded data removed]",
      "text/plain": [
       "<Figure size 432x288 with 2 Axes>"
      ]
     },
     "metadata": {
      "needs_background": "light"
     },
     "output_type": "display_data"
    }
   ],
   "source": [
    "# print corpora similarity matrix\n",
    "sns_plot = sns.heatmap(data=cm, \n",
    "                       cmap='Blues', \n",
    "                       fmt='4', \n",
    "                       xticklabels=['PT', 'SDG', 'JM', 'JI'], \n",
    "                       yticklabels=['PT', 'SDG', 'JM', 'JI'], \n",
    "                       annot=annot)\n",
    "fig = sns_plot.get_figure()\n",
    "fig.savefig(\"./plots/corpora_similarity_matrix.png\")"
   ]
  },
  {
   "cell_type": "markdown",
   "id": "superior-simulation",
   "metadata": {},
   "source": [
    "### Simple training data statistics"
   ]
  },
  {
   "cell_type": "code",
   "execution_count": 47,
   "id": "temporal-escape",
   "metadata": {},
   "outputs": [],
   "source": [
    "target_file_path = './datasets/dev_test_set_u_prelabelled_labelled.xls'\n",
    "target_col = 'human_label'"
   ]
  },
  {
   "cell_type": "code",
   "execution_count": 23,
   "id": "prerequisite-aruba",
   "metadata": {},
   "outputs": [],
   "source": [
    "df = pd.read_excel(target_file_path)"
   ]
  },
  {
   "cell_type": "code",
   "execution_count": 49,
   "id": "catholic-dodge",
   "metadata": {},
   "outputs": [],
   "source": [
    "df = df.loc[~df[target_col].isnull(), : ]"
   ]
  },
  {
   "cell_type": "code",
   "execution_count": 50,
   "id": "plastic-presentation",
   "metadata": {},
   "outputs": [
    {
     "data": {
      "text/html": [
       "<div>\n",
       "<style scoped>\n",
       "    .dataframe tbody tr th:only-of-type {\n",
       "        vertical-align: middle;\n",
       "    }\n",
       "\n",
       "    .dataframe tbody tr th {\n",
       "        vertical-align: top;\n",
       "    }\n",
       "\n",
       "    .dataframe thead th {\n",
       "        text-align: right;\n",
       "    }\n",
       "</style>\n",
       "<table border=\"1\" class=\"dataframe\">\n",
       "  <thead>\n",
       "    <tr style=\"text-align: right;\">\n",
       "      <th></th>\n",
       "      <th>id</th>\n",
       "      <th>comp_name</th>\n",
       "      <th>sentence</th>\n",
       "      <th>model_most_likely</th>\n",
       "      <th>human_label</th>\n",
       "    </tr>\n",
       "  </thead>\n",
       "  <tbody>\n",
       "    <tr>\n",
       "      <th>0</th>\n",
       "      <td>07e45bf1b3a39e5d</td>\n",
       "      <td>engie</td>\n",
       "      <td>ENGIE are recruiting for a Mobile Contract Sup...</td>\n",
       "      <td>0.0</td>\n",
       "      <td>0</td>\n",
       "    </tr>\n",
       "    <tr>\n",
       "      <th>1</th>\n",
       "      <td>07e45bf1b3a39e5d</td>\n",
       "      <td>engie</td>\n",
       "      <td>This is a permanent, full time role working 40...</td>\n",
       "      <td>0.0</td>\n",
       "      <td>0</td>\n",
       "    </tr>\n",
       "    <tr>\n",
       "      <th>2</th>\n",
       "      <td>07e45bf1b3a39e5d</td>\n",
       "      <td>engie</td>\n",
       "      <td>On offer is a salary of ¬£35,000 - ¬£37,500 de...</td>\n",
       "      <td>0.0</td>\n",
       "      <td>1</td>\n",
       "    </tr>\n",
       "    <tr>\n",
       "      <th>3</th>\n",
       "      <td>07e45bf1b3a39e5d</td>\n",
       "      <td>engie</td>\n",
       "      <td>Provide Technical Assistance to other Engineer...</td>\n",
       "      <td>0.0</td>\n",
       "      <td>0</td>\n",
       "    </tr>\n",
       "    <tr>\n",
       "      <th>4</th>\n",
       "      <td>07e45bf1b3a39e5d</td>\n",
       "      <td>engie</td>\n",
       "      <td>Maintain all PPM and Reactive Repairs Records ...</td>\n",
       "      <td>0.0</td>\n",
       "      <td>0</td>\n",
       "    </tr>\n",
       "  </tbody>\n",
       "</table>\n",
       "</div>"
      ],
      "text/plain": [
       "                 id comp_name  \\\n",
       "0  07e45bf1b3a39e5d     engie   \n",
       "1  07e45bf1b3a39e5d     engie   \n",
       "2  07e45bf1b3a39e5d     engie   \n",
       "3  07e45bf1b3a39e5d     engie   \n",
       "4  07e45bf1b3a39e5d     engie   \n",
       "\n",
       "                                            sentence  model_most_likely  \\\n",
       "0  ENGIE are recruiting for a Mobile Contract Sup...                0.0   \n",
       "1  This is a permanent, full time role working 40...                0.0   \n",
       "2  On offer is a salary of ¬£35,000 - ¬£37,500 de...                0.0   \n",
       "3  Provide Technical Assistance to other Engineer...                0.0   \n",
       "4  Maintain all PPM and Reactive Repairs Records ...                0.0   \n",
       "\n",
       "  human_label  \n",
       "0           0  \n",
       "1           0  \n",
       "2           1  \n",
       "3           0  \n",
       "4           0  "
      ]
     },
     "execution_count": 50,
     "metadata": {},
     "output_type": "execute_result"
    }
   ],
   "source": [
    "df.head()"
   ]
  },
  {
   "cell_type": "code",
   "execution_count": 61,
   "id": "constant-tolerance",
   "metadata": {
    "scrolled": false
   },
   "outputs": [
    {
     "data": {
      "image/png": "[encoded data removed]",
      "text/plain": [
       "<Figure size 432x288 with 1 Axes>"
      ]
     },
     "metadata": {
      "needs_background": "light"
     },
     "output_type": "display_data"
    }
   ],
   "source": [
    "\n",
    "sns_histplot = sns.histplot(sorted([label for int_label in df[target_col] for label in re.findall(r\"[\\w']+\", str(int_label))], key=int))\n",
    "#sns_histplot = sns.histplot(sorted([label for int_label in df['human_label'] for label in str(int_label).split()], key=int))\n",
    "fig = sns_histplot.get_figure()\n",
    "fig.savefig(\"./plots/histogram_prelabelled_labelled_SDG_wiki.png\")"
   ]
  },
  {
   "cell_type": "code",
   "execution_count": null,
   "id": "frozen-secondary",
   "metadata": {},
   "outputs": [],
   "source": []
  }
 ],
 "metadata": {
  "kernelspec": {
   "display_name": "Python 3",
   "language": "python",
   "name": "python3"
  },
  "language_info": {
   "codemirror_mode": {
    "name": "ipython",
    "version": 3
   },
   "file_extension": ".py",
   "mimetype": "text/x-python",
   "name": "python",
   "nbconvert_exporter": "python",
   "pygments_lexer": "ipython3",
   "version": "3.9.1"
  }
 },
 "nbformat": 4,
 "nbformat_minor": 5
}
